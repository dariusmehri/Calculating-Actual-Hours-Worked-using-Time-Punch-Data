{
 "cells": [
  {
   "cell_type": "markdown",
   "metadata": {},
   "source": [
    "# PART 1: READ AND CLEAN DATA"
   ]
  },
  {
   "cell_type": "markdown",
   "metadata": {},
   "source": [
    "# Date"
   ]
  },
  {
   "cell_type": "code",
   "execution_count": null,
   "metadata": {
    "collapsed": true
   },
   "outputs": [],
   "source": [
    "date = '17-May'"
   ]
  },
  {
   "cell_type": "code",
   "execution_count": null,
   "metadata": {
    "collapsed": false
   },
   "outputs": [],
   "source": [
    "import pandas as pd\n",
    "pd.set_option('chained_assignment', None)\n",
    "\n",
    "df = pd.read_csv(\"S:\\\\Office of Risk Management\\\\User Folders\\Darius Mehri\\\\\n",
    "Enforcement Inspection Analysis\\\\Bobby Allesio Analysis\\\\April 2017\\\\\n",
    "Time Entry Detail Report Mar 17.csv\")\n",
    "\n",
    "df[\"First Name\"] = df[\"First Name\"].map(str.upper)\n",
    "df[\"Last Name\"] = df[\"Last Name\"].map(str.upper)\n",
    "df[\"First Name\"] = df[\"First Name\"].map(str.strip)\n",
    "df[\"Last Name\"] = df[\"Last Name\"].map(str.strip)\n",
    "\n",
    "\n",
    "df[\"Last Name\"] = df[\"Last Name\"].str.replace(' JR', '')\n",
    "df[\"Last Name\"] = df[\"Last Name\"].str.replace(',', '')\n",
    "df[\"Last Name\"] = df[\"Last Name\"].str.replace('.', '')\n",
    "df[\"Last Name\"] = df[\"Last Name\"].str.replace(' II', '')\n",
    "df[\"Last Name\"] = df[\"Last Name\"].str.replace(' III', '')\n",
    "\n",
    "df[\"Name\"] = df[\"First Name\"] + \" \" + df[\"Last Name\"]\n",
    "\n",
    "df[\"Actual In Punch\"] = df[\"Actual In Punch\"].astype(str)\n",
    "df[\"Actual In Punch\"] = df[\"Actual In Punch\"].map(str.strip)\n",
    "\n",
    "df[\"Actual Out Punch\"] = df[\"Actual Out Punch\"].astype(str)\n",
    "df[\"Actual Out Punch\"] = df[\"Actual Out Punch\"].map(str.strip)\n",
    "\n",
    "#BOBBY ALESIO CALCULATION, GET PEOPLE OF INTEREST FIRST\n",
    "bn = pd.read_csv(\"S:\\\\Office of Risk Management\\\\User Folders\\\\Darius Mehri\\\\Enforcement Inspection Analysis\\\\Bobby Allesio Analysis\\\\Inspector List 3.csv\")\n",
    "bn[\"FIRST NAME\"] = bn[\"FIRST NAME\"].map(str.upper)\n",
    "bn[\"LAST NAME\"] = bn[\"LAST NAME\"].map(str.upper)\n",
    "bn[\"FIRST NAME\"] = bn[\"FIRST NAME\"].map(str.strip)\n",
    "bn[\"LAST NAME\"] = bn[\"LAST NAME\"].map(str.strip)\n",
    "\n",
    "bn[\"LAST NAME\"] = bn[\"LAST NAME\"].str.replace(' JR', '')\n",
    "bn[\"LAST NAME\"] = bn[\"LAST NAME\"].str.replace(',', '')\n",
    "bn[\"LAST NAME\"] = bn[\"LAST NAME\"].str.replace('.', '')\n",
    "bn[\"LAST NAME\"] = bn[\"LAST NAME\"].str.replace(' II', '')\n",
    "bn[\"LAST NAME\"] = bn[\"LAST NAME\"].str.replace(' III', '')\n",
    "\n",
    "bn[\"Name\"] = bn[\"FIRST NAME\"] + \" \" + bn[\"LAST NAME\"]\n",
    "\n",
    "#create list of names\n",
    "nameList = bn['Name'].tolist()\n",
    "nameList = set(nameList)\n",
    "nameList = list(nameList)\n",
    "\n",
    "print len(nameList)\n",
    "\n",
    "#subset df using list of names\n",
    "df = df[df['Name'].isin(nameList)]\n",
    "df = df.reset_index(drop=True)\n",
    "namedfList = df['Name'].tolist()\n",
    "namedfList = set(namedfList)\n",
    "namedfList = list(namedfList)\n",
    "\n",
    "print len(namedfList)\n",
    "\n",
    "#get list of names with blank for punch in and/or punch out\n",
    "\n",
    "df = df.reset_index(drop=True)\n",
    "print \"PUNCH IN TIME BLANK\"\n",
    "for i in range(0, len(df)):\n",
    "    if df[\"Actual In Punch\"][i] == 'nan':\n",
    "        print df[\"Last Name\"][i], df[\"First Name\"][i], df[\"Employee CT ID\"][i], df[\"Date of In Punch\"][i]\n",
    "\n",
    "print\n",
    "print \"PUNCH OUT TIME BLANK\"\n",
    "\n",
    "for i in range(0, len(df)):\n",
    "    if df[\"Actual Out Punch\"][i] == 'nan':\n",
    "        print df[\"Last Name\"][i], df[\"First Name\"][i], df[\"Employee CT ID\"][i], df[\"Date of In Punch\"][i]\n",
    "\n"
   ]
  },
  {
   "cell_type": "code",
   "execution_count": null,
   "metadata": {
    "collapsed": false
   },
   "outputs": [],
   "source": [
    "len(bn)"
   ]
  },
  {
   "cell_type": "code",
   "execution_count": null,
   "metadata": {
    "collapsed": false
   },
   "outputs": [],
   "source": [
    "#check who not in list\n",
    "for i in range(0, len(nameList)):\n",
    "    if nameList[i] not in namedfList:\n",
    "        print nameList[i]"
   ]
  },
  {
   "cell_type": "code",
   "execution_count": null,
   "metadata": {
    "collapsed": false
   },
   "outputs": [],
   "source": [
    "#correct for time punch where have two rows of data, theoretically should have only one row\n",
    "\n",
    "print len(df)\n",
    "\n",
    "df['Blank Punch'] = '0'\n",
    "\n",
    "#df[\"Actual In Punch\"] = df[\"Actual In Punch\"].astype(str)\n",
    "df[\"Actual In Punch\"] = df[\"Actual In Punch\"].map(str.strip)\n",
    "\n",
    "#df[\"Actual Out Punch\"] = df[\"Actual Out Punch\"].astype(str)\n",
    "df[\"Actual Out Punch\"] = df[\"Actual Out Punch\"].map(str.strip)\n",
    "\n",
    "\n",
    "#this corrects for have punch in but no punch out, and punch out but no punch in\n",
    "for i in range(0, len(df)):\n",
    "    if (df[\"Actual In Punch\"][i] == 'nan'):\n",
    "        df[\"Actual In Punch\"][i] = \"9:00\"\n",
    "        df[\"Actual Out Punch\"][i] = \"17:00\"\n",
    "        \n",
    "    if df[\"Actual Out Punch\"][i] == 'nan':\n",
    "        df[\"Actual In Punch\"][i] = \"9:00\"\n",
    "        df[\"Actual Out Punch\"][i] = \"17:00\"\n",
    "        df['Blank Punch'][i] = '1'\n",
    "\n",
    "print df[\"Actual In Punch\"].isnull().sum()\n",
    "print df[\"Actual Out Punch\"].isnull().sum()\n",
    "\n",
    "\n",
    "print \"len before drop\", len(df)\n",
    "df = df[df[\"Blank Punch\"] != '1']\n",
    "df = df.reset_index(drop=True)\n",
    "print \"len after drop\", len(df)\n",
    "\n",
    "\n",
    "#convert to datetime\n",
    "df['Actual In Punch'] = pd.to_datetime(df['Actual In Punch'])\n",
    "df['Actual Out Punch'] = pd.to_datetime(df['Actual Out Punch'])\n",
    "#strip date from datetime\n",
    "df['Actual In Punch'] = df[\"Actual In Punch\"].apply( lambda d : d.time() )\n",
    "df['Actual Out Punch'] = df[\"Actual Out Punch\"].apply( lambda d : d.time() )\n",
    "\n",
    "#drop duplicates\n",
    "#print \"len before drop\", len(df)\n",
    "#df = df.drop_duplicates(subset=['Employee CT ID', 'Date of In Punch', 'Name']).reset_index(drop=True)\n",
    "#df = df.reset_index(drop=True)\n",
    "\n",
    "#print \"len after drop\", len(df)\n",
    "\n"
   ]
  },
  {
   "cell_type": "markdown",
   "metadata": {},
   "source": [
    "# PART 2: CALCULATE HOURS WORKED"
   ]
  },
  {
   "cell_type": "code",
   "execution_count": null,
   "metadata": {
    "collapsed": false
   },
   "outputs": [],
   "source": [
    "pd.set_option('chained_assignment', None)\n",
    "\n",
    "df[\"Hours Worked\"] = \"\"\n",
    "\n",
    "for i in range(0, len(df)):\n",
    "    d = (df[\"Actual Out Punch\"][i].hour + df[\"Actual Out Punch\"][i].minute/60.0) \\\n",
    "        - (df[\"Actual In Punch\"][i].hour + df[\"Actual In Punch\"][i].minute/60.0)\n",
    "    df[\"Hours Worked\"][i] = d"
   ]
  },
  {
   "cell_type": "markdown",
   "metadata": {},
   "source": [
    "# PART 3: REMOVE HOURS FOR LUNCH"
   ]
  },
  {
   "cell_type": "code",
   "execution_count": null,
   "metadata": {
    "collapsed": false
   },
   "outputs": [],
   "source": [
    "#categorize as inspector\n",
    "#bn[\"Hours\"] = bn[\"Hours\"].astype(str)\n",
    "\n",
    "df2 = df[[\"Name\", \"Date of In Punch\", \"Hours Worked\"]]\n",
    "\n",
    "dfG = df2.groupby(['Name', 'Date of In Punch']).sum()\n",
    "\n",
    "dfG = dfG.add_suffix('_Count').reset_index()\n",
    "\n",
    "dfG = dfG.rename(columns={'Hours Worked_Count': 'Hours Worked'})\n",
    "dfG = dfG.reset_index(drop=True)\n",
    "\n",
    "#create inspector list, inspectors only take 1/2 hour for lunch\n",
    "insp = bn[bn[\"Hours\"] == 8]\n",
    "\n",
    "inspList = insp['Name'].tolist()\n",
    "\n",
    "print len(inspList)\n",
    "print len(bn)\n",
    "\n",
    "print inspList\n",
    "\n",
    "dfG[\"Inspector\"] = 0\n",
    "\n",
    "for i in range(0, len(dfG)):\n",
    "    if dfG[\"Name\"][i] in inspList:\n",
    "        dfG[\"Inspector\"][i] = 1\n",
    "\n",
    "#correct for lunch\n",
    "\n",
    "for i in range(0, len(dfG)):\n",
    "    if dfG[\"Inspector\"][i] == 1:\n",
    "        dfG[\"Hours Worked\"][i] = dfG[\"Hours Worked\"][i] - 0.5\n",
    "    else:\n",
    "        dfG[\"Hours Worked\"][i] = dfG[\"Hours Worked\"][i] - 1.0\n",
    "\n",
    "        \n",
    "#add up hours worked for each employee\n",
    "dfG2 = (dfG.groupby('Name').agg({'Hours Worked':'sum'}).reset_index().rename(columns={'Hours Worked':'Actual Hours Worked'}) )\n",
    "dfG2 = dfG2.rename(columns={'Actual Hours Worked': date})\n"
   ]
  },
  {
   "cell_type": "code",
   "execution_count": null,
   "metadata": {
    "collapsed": true
   },
   "outputs": [],
   "source": [
    "dfG2.to_csv(\"S:\\\\Office of Risk Management\\\\User Folders\\\\Darius Mehri\\\\Enforcement Inspection Analysis\\\\\n",
    "Bobby Allesio Analysis\\\\April 2017\\\\Actual Hours Worked March 2017.csv\")"
   ]
  },
  {
   "cell_type": "code",
   "execution_count": null,
   "metadata": {
    "collapsed": false
   },
   "outputs": [],
   "source": [
    "dfG2.head(2)"
   ]
  },
  {
   "cell_type": "code",
   "execution_count": null,
   "metadata": {
    "collapsed": false
   },
   "outputs": [],
   "source": [
    "#merged = merged[[\"Name\", \"LAST NAME\", \"FIRST NAME\", \"TITLE\", \"UNIT\", \"Hours\"]]\n",
    "merged = bn\n",
    "merged = pd.merge(merged,dfG2, how=\"outer\" )\n",
    "\n",
    "merged"
   ]
  },
  {
   "cell_type": "code",
   "execution_count": null,
   "metadata": {
    "collapsed": true
   },
   "outputs": [],
   "source": [
    "merged.to_csv(\"S:\\\\Office of Risk Management\\\\User Folders\\\\Darius Mehri\\\\Enforcement Inspection Analysis\\\\\n",
    "Bobby Allesio Analysis\\\\April 2017\\\\Alesio Actual Hours Worked.csv\")"
   ]
  },
  {
   "cell_type": "code",
   "execution_count": null,
   "metadata": {
    "collapsed": true
   },
   "outputs": [],
   "source": []
  }
 ],
 "metadata": {
  "kernelspec": {
   "display_name": "Python 2",
   "language": "python",
   "name": "python2"
  },
  "language_info": {
   "codemirror_mode": {
    "name": "ipython",
    "version": 2
   },
   "file_extension": ".py",
   "mimetype": "text/x-python",
   "name": "python",
   "nbconvert_exporter": "python",
   "pygments_lexer": "ipython2",
   "version": "2.7.11"
  }
 },
 "nbformat": 4,
 "nbformat_minor": 0
}
